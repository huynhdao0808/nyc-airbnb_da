{
  "nbformat": 4,
  "nbformat_minor": 0,
  "metadata": {
    "kernelspec": {
      "display_name": "Python 3",
      "language": "python",
      "name": "python3"
    },
    "language_info": {
      "codemirror_mode": {
        "name": "ipython",
        "version": 3
      },
      "file_extension": ".py",
      "mimetype": "text/x-python",
      "name": "python",
      "nbconvert_exporter": "python",
      "pygments_lexer": "ipython3",
      "version": "3.7.3"
    },
    "colab": {
      "name": "Team 2 - NYC Airbnb - NYC Property Sale.ipynb",
      "provenance": [],
      "collapsed_sections": []
    }
  },
  "cells": [
    {
      "cell_type": "markdown",
      "metadata": {
        "id": "1UaoysVof4-J",
        "colab_type": "text"
      },
      "source": [
        "# Team 2 - NYC Airbnb - NYC Property Sale\n",
        "\n",
        "![](https://img4.cityrealty.com/neo/i/p/mig/airbnb_guide.jpg)\n",
        "\n",
        "_For more information about the dataset, read [here](https://www.kaggle.com/new-york-city/nyc-property-sales)._\n"
      ]
    },
    {
      "cell_type": "code",
      "metadata": {
        "id": "7A9H6qeUf4-M",
        "colab_type": "code",
        "colab": {}
      },
      "source": [
        "# Start your codes here!\n",
        "import numpy as np\n",
        "import pandas as pd\n",
        "import seaborn as sns\n",
        "import matplotlib.pyplot as plt\n",
        "\n",
        "import warnings\n",
        "warnings.filterwarnings('ignore')\n",
        "\n",
        "sns.set_style(\"whitegrid\")"
      ],
      "execution_count": 0,
      "outputs": []
    },
    {
      "cell_type": "code",
      "metadata": {
        "id": "ruy2nb2N1Hb8",
        "colab_type": "code",
        "outputId": "39edd2e4-ae7f-4569-a513-71baa9dd95c5",
        "colab": {
          "base_uri": "https://localhost:8080/",
          "height": 34
        }
      },
      "source": [
        "from google.colab import drive\n",
        "drive.mount('/content/gdrive')"
      ],
      "execution_count": 69,
      "outputs": [
        {
          "output_type": "stream",
          "text": [
            "Drive already mounted at /content/gdrive; to attempt to forcibly remount, call drive.mount(\"/content/gdrive\", force_remount=True).\n"
          ],
          "name": "stdout"
        }
      ]
    },
    {
      "cell_type": "code",
      "metadata": {
        "id": "oxXBIp5B1LJy",
        "colab_type": "code",
        "colab": {}
      },
      "source": [
        "df = pd.read_csv('/content/gdrive/My Drive/nyc-property-sales.csv')"
      ],
      "execution_count": 0,
      "outputs": []
    },
    {
      "cell_type": "markdown",
      "metadata": {
        "id": "yWdyPHBS5iTI",
        "colab_type": "text"
      },
      "source": [
        "#Data overview"
      ]
    },
    {
      "cell_type": "code",
      "metadata": {
        "id": "hOwQQYqd1cs6",
        "colab_type": "code",
        "outputId": "2ef0e670-7846-4587-d654-8926e0e52c0d",
        "colab": {
          "base_uri": "https://localhost:8080/",
          "height": 151
        }
      },
      "source": [
        "df.info()"
      ],
      "execution_count": 88,
      "outputs": [
        {
          "output_type": "stream",
          "text": [
            "<class 'pandas.core.frame.DataFrame'>\n",
            "Int64Index: 54388 entries, 0 to 84545\n",
            "Data columns (total 3 columns):\n",
            "NEIBORHOOD GROUP    54388 non-null object\n",
            "CLASS               54388 non-null object\n",
            "SALE PRICE          54388 non-null int64\n",
            "dtypes: int64(1), object(2)\n",
            "memory usage: 1.7+ MB\n"
          ],
          "name": "stdout"
        }
      ]
    },
    {
      "cell_type": "code",
      "metadata": {
        "id": "jQzYUAbO5AhX",
        "colab_type": "code",
        "colab": {
          "base_uri": "https://localhost:8080/",
          "height": 284
        },
        "outputId": "4e044ff6-7051-48b0-e68f-d566ff8b5874"
      },
      "source": [
        "df.describe()"
      ],
      "execution_count": 91,
      "outputs": [
        {
          "output_type": "execute_result",
          "data": {
            "text/html": [
              "<div>\n",
              "<style scoped>\n",
              "    .dataframe tbody tr th:only-of-type {\n",
              "        vertical-align: middle;\n",
              "    }\n",
              "\n",
              "    .dataframe tbody tr th {\n",
              "        vertical-align: top;\n",
              "    }\n",
              "\n",
              "    .dataframe thead th {\n",
              "        text-align: right;\n",
              "    }\n",
              "</style>\n",
              "<table border=\"1\" class=\"dataframe\">\n",
              "  <thead>\n",
              "    <tr style=\"text-align: right;\">\n",
              "      <th></th>\n",
              "      <th>SALE PRICE</th>\n",
              "    </tr>\n",
              "  </thead>\n",
              "  <tbody>\n",
              "    <tr>\n",
              "      <th>count</th>\n",
              "      <td>5.438800e+04</td>\n",
              "    </tr>\n",
              "    <tr>\n",
              "      <th>mean</th>\n",
              "      <td>1.125377e+06</td>\n",
              "    </tr>\n",
              "    <tr>\n",
              "      <th>std</th>\n",
              "      <td>2.765326e+06</td>\n",
              "    </tr>\n",
              "    <tr>\n",
              "      <th>min</th>\n",
              "      <td>1.110000e+03</td>\n",
              "    </tr>\n",
              "    <tr>\n",
              "      <th>25%</th>\n",
              "      <td>3.800000e+05</td>\n",
              "    </tr>\n",
              "    <tr>\n",
              "      <th>50%</th>\n",
              "      <td>6.230000e+05</td>\n",
              "    </tr>\n",
              "    <tr>\n",
              "      <th>75%</th>\n",
              "      <td>9.990000e+05</td>\n",
              "    </tr>\n",
              "    <tr>\n",
              "      <th>max</th>\n",
              "      <td>2.175000e+08</td>\n",
              "    </tr>\n",
              "  </tbody>\n",
              "</table>\n",
              "</div>"
            ],
            "text/plain": [
              "         SALE PRICE\n",
              "count  5.438800e+04\n",
              "mean   1.125377e+06\n",
              "std    2.765326e+06\n",
              "min    1.110000e+03\n",
              "25%    3.800000e+05\n",
              "50%    6.230000e+05\n",
              "75%    9.990000e+05\n",
              "max    2.175000e+08"
            ]
          },
          "metadata": {
            "tags": []
          },
          "execution_count": 91
        }
      ]
    },
    {
      "cell_type": "code",
      "metadata": {
        "id": "VncKxAsH4Hcx",
        "colab_type": "code",
        "colab": {
          "base_uri": "https://localhost:8080/",
          "height": 195
        },
        "outputId": "7a8c2c5a-4062-4f11-c7b1-60f386cd89f1"
      },
      "source": [
        "df.sample(5)"
      ],
      "execution_count": 85,
      "outputs": [
        {
          "output_type": "execute_result",
          "data": {
            "text/html": [
              "<div>\n",
              "<style scoped>\n",
              "    .dataframe tbody tr th:only-of-type {\n",
              "        vertical-align: middle;\n",
              "    }\n",
              "\n",
              "    .dataframe tbody tr th {\n",
              "        vertical-align: top;\n",
              "    }\n",
              "\n",
              "    .dataframe thead th {\n",
              "        text-align: right;\n",
              "    }\n",
              "</style>\n",
              "<table border=\"1\" class=\"dataframe\">\n",
              "  <thead>\n",
              "    <tr style=\"text-align: right;\">\n",
              "      <th></th>\n",
              "      <th>NEIBORHOOD GROUP</th>\n",
              "      <th>CLASS</th>\n",
              "      <th>SALE PRICE</th>\n",
              "    </tr>\n",
              "  </thead>\n",
              "  <tbody>\n",
              "    <tr>\n",
              "      <th>37847</th>\n",
              "      <td>Brooklyn</td>\n",
              "      <td>A</td>\n",
              "      <td>389153</td>\n",
              "    </tr>\n",
              "    <tr>\n",
              "      <th>15694</th>\n",
              "      <td>Manhattan</td>\n",
              "      <td>R</td>\n",
              "      <td>2245000</td>\n",
              "    </tr>\n",
              "    <tr>\n",
              "      <th>3499</th>\n",
              "      <td>Manhattan</td>\n",
              "      <td>R</td>\n",
              "      <td>515000</td>\n",
              "    </tr>\n",
              "    <tr>\n",
              "      <th>55690</th>\n",
              "      <td>Queens</td>\n",
              "      <td>C</td>\n",
              "      <td>450000</td>\n",
              "    </tr>\n",
              "    <tr>\n",
              "      <th>56527</th>\n",
              "      <td>Queens</td>\n",
              "      <td>A</td>\n",
              "      <td>670000</td>\n",
              "    </tr>\n",
              "  </tbody>\n",
              "</table>\n",
              "</div>"
            ],
            "text/plain": [
              "      NEIBORHOOD GROUP CLASS  SALE PRICE\n",
              "37847         Brooklyn     A      389153\n",
              "15694        Manhattan     R     2245000\n",
              "3499         Manhattan     R      515000\n",
              "55690           Queens     C      450000\n",
              "56527           Queens     A      670000"
            ]
          },
          "metadata": {
            "tags": []
          },
          "execution_count": 85
        }
      ]
    },
    {
      "cell_type": "markdown",
      "metadata": {
        "id": "xy_Vm6kx5Z3V",
        "colab_type": "text"
      },
      "source": [
        "# Drop the properties those price smaller than 1000$"
      ]
    },
    {
      "cell_type": "code",
      "metadata": {
        "id": "Aa_ddXVL0mHe",
        "colab_type": "code",
        "colab": {}
      },
      "source": [
        "df.drop(labels=df[df['SALE PRICE'].str.contains('-')].index,axis=0,inplace=True)"
      ],
      "execution_count": 0,
      "outputs": []
    },
    {
      "cell_type": "code",
      "metadata": {
        "id": "e3zcBqyv4kG3",
        "colab_type": "code",
        "colab": {}
      },
      "source": [
        "df['SALE PRICE'] = df['SALE PRICE'].astype('int64')\n",
        "df = df[df['SALE PRICE']>1000]"
      ],
      "execution_count": 0,
      "outputs": []
    },
    {
      "cell_type": "markdown",
      "metadata": {
        "id": "s6MSrw6Y50ZU",
        "colab_type": "text"
      },
      "source": [
        "#Drop the propertise have commercial units"
      ]
    },
    {
      "cell_type": "code",
      "metadata": {
        "id": "ZAlrUd6I54F5",
        "colab_type": "code",
        "colab": {}
      },
      "source": [
        "df = df[df['COMMERCIAL UNITS']==0]"
      ],
      "execution_count": 0,
      "outputs": []
    },
    {
      "cell_type": "markdown",
      "metadata": {
        "id": "G32685cV5o2r",
        "colab_type": "text"
      },
      "source": [
        "# Replace Borough code with Text"
      ]
    },
    {
      "cell_type": "code",
      "metadata": {
        "id": "nwizBvDE2Xqx",
        "colab_type": "code",
        "colab": {}
      },
      "source": [
        "def replace(borough):\n",
        "    switcher = { \n",
        "        1: \"Manhattan\", \n",
        "        2: \"Bronx\", \n",
        "        3: \"Brooklyn\", \n",
        "        4: \"Queens\",\n",
        "        5: \"Staten Island\"\n",
        "    } \n",
        "    return switcher.get(borough, \"Other\") "
      ],
      "execution_count": 0,
      "outputs": []
    },
    {
      "cell_type": "code",
      "metadata": {
        "id": "R1E5gCG12J4z",
        "colab_type": "code",
        "colab": {}
      },
      "source": [
        "df['NEIBORHOOD GROUP'] = df['BOROUGH'].apply(replace)"
      ],
      "execution_count": 0,
      "outputs": []
    },
    {
      "cell_type": "markdown",
      "metadata": {
        "id": "5GgmPgYB6apz",
        "colab_type": "text"
      },
      "source": [
        "# Drop the properties except class A, B, C, D, R"
      ]
    },
    {
      "cell_type": "code",
      "metadata": {
        "colab_type": "code",
        "id": "BYgi_XJd6Xqm",
        "colab": {}
      },
      "source": [
        "df['CLASS'] = df['BUILDING CLASS AT PRESENT'].str[0]"
      ],
      "execution_count": 0,
      "outputs": []
    },
    {
      "cell_type": "code",
      "metadata": {
        "id": "r_9R8dFD4QXX",
        "colab_type": "code",
        "colab": {}
      },
      "source": [
        "df = df[df['CLASS'].isin(['A','B','C','D','R'])]"
      ],
      "execution_count": 0,
      "outputs": []
    },
    {
      "cell_type": "markdown",
      "metadata": {
        "id": "FM8nrCxq7Hfv",
        "colab_type": "text"
      },
      "source": [
        "#Get the final result to csv"
      ]
    },
    {
      "cell_type": "code",
      "metadata": {
        "id": "d_EVtK9G7Xe4",
        "colab_type": "code",
        "colab": {}
      },
      "source": [
        "df = df[['NEIBORHOOD GROUP','CLASS','SALE PRICE']]"
      ],
      "execution_count": 0,
      "outputs": []
    },
    {
      "cell_type": "code",
      "metadata": {
        "id": "fqix7LFO7mWw",
        "colab_type": "code",
        "colab": {
          "base_uri": "https://localhost:8080/",
          "height": 195
        },
        "outputId": "0b1f8a46-19c0-4bd3-9358-371f31324f62"
      },
      "source": [
        "df.sample(5)"
      ],
      "execution_count": 86,
      "outputs": [
        {
          "output_type": "execute_result",
          "data": {
            "text/html": [
              "<div>\n",
              "<style scoped>\n",
              "    .dataframe tbody tr th:only-of-type {\n",
              "        vertical-align: middle;\n",
              "    }\n",
              "\n",
              "    .dataframe tbody tr th {\n",
              "        vertical-align: top;\n",
              "    }\n",
              "\n",
              "    .dataframe thead th {\n",
              "        text-align: right;\n",
              "    }\n",
              "</style>\n",
              "<table border=\"1\" class=\"dataframe\">\n",
              "  <thead>\n",
              "    <tr style=\"text-align: right;\">\n",
              "      <th></th>\n",
              "      <th>NEIBORHOOD GROUP</th>\n",
              "      <th>CLASS</th>\n",
              "      <th>SALE PRICE</th>\n",
              "    </tr>\n",
              "  </thead>\n",
              "  <tbody>\n",
              "    <tr>\n",
              "      <th>17428</th>\n",
              "      <td>Manhattan</td>\n",
              "      <td>R</td>\n",
              "      <td>12147722</td>\n",
              "    </tr>\n",
              "    <tr>\n",
              "      <th>79719</th>\n",
              "      <td>Staten Island</td>\n",
              "      <td>B</td>\n",
              "      <td>357000</td>\n",
              "    </tr>\n",
              "    <tr>\n",
              "      <th>82711</th>\n",
              "      <td>Staten Island</td>\n",
              "      <td>A</td>\n",
              "      <td>230000</td>\n",
              "    </tr>\n",
              "    <tr>\n",
              "      <th>30704</th>\n",
              "      <td>Brooklyn</td>\n",
              "      <td>C</td>\n",
              "      <td>4600000</td>\n",
              "    </tr>\n",
              "    <tr>\n",
              "      <th>60595</th>\n",
              "      <td>Queens</td>\n",
              "      <td>D</td>\n",
              "      <td>245000</td>\n",
              "    </tr>\n",
              "  </tbody>\n",
              "</table>\n",
              "</div>"
            ],
            "text/plain": [
              "      NEIBORHOOD GROUP CLASS  SALE PRICE\n",
              "17428        Manhattan     R    12147722\n",
              "79719    Staten Island     B      357000\n",
              "82711    Staten Island     A      230000\n",
              "30704         Brooklyn     C     4600000\n",
              "60595           Queens     D      245000"
            ]
          },
          "metadata": {
            "tags": []
          },
          "execution_count": 86
        }
      ]
    },
    {
      "cell_type": "code",
      "metadata": {
        "id": "-2TqDIzT7Lfd",
        "colab_type": "code",
        "colab": {}
      },
      "source": [
        "df.to_csv('/content/gdrive/My Drive/nyc-rolling-sales-cleaned.csv')"
      ],
      "execution_count": 0,
      "outputs": []
    }
  ]
}